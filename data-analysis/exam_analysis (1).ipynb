{
  "nbformat": 4,
  "nbformat_minor": 0,
  "metadata": {
    "colab": {
      "provenance": []
    },
    "kernelspec": {
      "name": "python3",
      "display_name": "Python 3"
    },
    "language_info": {
      "name": "python"
    }
  },
  "cells": [
    {
      "cell_type": "markdown",
      "source": [
        "# **Problem statement**\n",
        "Students often complain that a test is too difficult. Are there tests that are more difficult than others? And if there are, was it because the material was harder, the test was more difficult, or the students just didn't do as well on the exam? It is difficult to ascertain the reasons why students do better on one exam or worse on another, but we can determine if they actually do better or worse on some exams if they do the same on all the exams. Another claim that has often been made is that women do worse in mathematics than men. Is this just a stereotype, or is there actual Statistical evidence to support this claim?\n",
        "\n",
        "**Project requirement**\n",
        "You are required to design and run statistical analysis using Python, to answer the following questions (please read the following questions carefully):\n",
        "1. Which exact exam is the most challenging exam for male students?\n",
        "2. In general, which type of exam is the easier for all the students?\n",
        "3. Comparing to math exam, whether female students do better in the history exam than male?\n"
      ],
      "metadata": {
        "id": "Z8b5d4rwJUpj"
      }
    },
    {
      "cell_type": "markdown",
      "source": [
        "To answer these questions,I will employ two aproaches. First, a descriptive statistical analysis to understand the destribution of the data better and be able to make a guess and second, a proper inferential statistical analysis that would involve some hypothesis testing. I will use Python for this analysis\n",
        "\n",
        "***First off, Descriptive Statistics***"
      ],
      "metadata": {
        "id": "HcVXIp_4Jj8w"
      }
    },
    {
      "cell_type": "code",
      "source": [
        "# First,importing the necessary libraries for data manipulation, plotting and analysis\n",
        "import pandas as pd\n",
        "import numpy as np\n",
        "import matplotlib.pyplot as plt\n",
        "import seaborn as sns\n",
        "plt.style.use('seaborn-whitegrid')\n",
        "# Set Matplotlib defaults\n",
        "plt.rc('figure', autolayout=True)\n",
        "plt.rc('axes', labelweight='bold', labelsize='large',\n",
        "       titleweight='bold', titlesize=18, titlepad=10)\n",
        "\n",
        "import warnings\n",
        "warnings.filterwarnings('ignore')"
      ],
      "metadata": {
        "colab": {
          "base_uri": "https://localhost:8080/"
        },
        "id": "Rhl0pZxLKSo-",
        "outputId": "8dfc1a82-bffb-4608-dbf7-b2da7980e662"
      },
      "execution_count": null,
      "outputs": [
        {
          "output_type": "stream",
          "name": "stderr",
          "text": [
            "<ipython-input-1-cd6f7af6f69d>:6: MatplotlibDeprecationWarning: The seaborn styles shipped by Matplotlib are deprecated since 3.6, as they no longer correspond to the styles shipped by seaborn. However, they will remain available as 'seaborn-v0_8-<style>'. Alternatively, directly use the seaborn API instead.\n",
            "  plt.style.use('seaborn-whitegrid')\n"
          ]
        }
      ]
    },
    {
      "cell_type": "code",
      "source": [
        "df = pd.read_csv('sample_data/Dataset+W23.csv')\n",
        "df.head()"
      ],
      "metadata": {
        "colab": {
          "base_uri": "https://localhost:8080/",
          "height": 267
        },
        "id": "hozjNQXAMRHK",
        "outputId": "b5c2f2f7-264d-460f-9ac3-c5f5abed6bc6"
      },
      "execution_count": null,
      "outputs": [
        {
          "output_type": "execute_result",
          "data": {
            "text/plain": [
              "   Math Exam 1 Sex  Math Exam 2 Sex.1  Math Exam 3 Sex.2  Math Exam 4 Sex.3  \\\n",
              "0           45   m           66     f           66     f           61     m   \n",
              "1           60   m           73     m           66     m           63     m   \n",
              "2           63   m           75     f           67     f           69     m   \n",
              "3           67   m           75     f           70     f           71     f   \n",
              "4           67   m           75     m           73     m           74     f   \n",
              "\n",
              "   History Exam 1 Sex.4  History Exam 2 Sex.5  History Exam 3 Sex.6  \\\n",
              "0              74     f              61     m              60     f   \n",
              "1              75     m              62     f              67     m   \n",
              "2              76     m              67     f              72     m   \n",
              "3              78     f              75     f              75     m   \n",
              "4              80     m              78     f              76     f   \n",
              "\n",
              "   History Exam 4 Sex.7  \n",
              "0              65     f  \n",
              "1              65     f  \n",
              "2              77     f  \n",
              "3              77     m  \n",
              "4              78     f  "
            ],
            "text/html": [
              "\n",
              "  <div id=\"df-10312ed9-2657-47c8-b500-3104fe5ee0f5\">\n",
              "    <div class=\"colab-df-container\">\n",
              "      <div>\n",
              "<style scoped>\n",
              "    .dataframe tbody tr th:only-of-type {\n",
              "        vertical-align: middle;\n",
              "    }\n",
              "\n",
              "    .dataframe tbody tr th {\n",
              "        vertical-align: top;\n",
              "    }\n",
              "\n",
              "    .dataframe thead th {\n",
              "        text-align: right;\n",
              "    }\n",
              "</style>\n",
              "<table border=\"1\" class=\"dataframe\">\n",
              "  <thead>\n",
              "    <tr style=\"text-align: right;\">\n",
              "      <th></th>\n",
              "      <th>Math Exam 1</th>\n",
              "      <th>Sex</th>\n",
              "      <th>Math Exam 2</th>\n",
              "      <th>Sex.1</th>\n",
              "      <th>Math Exam 3</th>\n",
              "      <th>Sex.2</th>\n",
              "      <th>Math Exam 4</th>\n",
              "      <th>Sex.3</th>\n",
              "      <th>History Exam 1</th>\n",
              "      <th>Sex.4</th>\n",
              "      <th>History Exam 2</th>\n",
              "      <th>Sex.5</th>\n",
              "      <th>History Exam 3</th>\n",
              "      <th>Sex.6</th>\n",
              "      <th>History Exam 4</th>\n",
              "      <th>Sex.7</th>\n",
              "    </tr>\n",
              "  </thead>\n",
              "  <tbody>\n",
              "    <tr>\n",
              "      <th>0</th>\n",
              "      <td>45</td>\n",
              "      <td>m</td>\n",
              "      <td>66</td>\n",
              "      <td>f</td>\n",
              "      <td>66</td>\n",
              "      <td>f</td>\n",
              "      <td>61</td>\n",
              "      <td>m</td>\n",
              "      <td>74</td>\n",
              "      <td>f</td>\n",
              "      <td>61</td>\n",
              "      <td>m</td>\n",
              "      <td>60</td>\n",
              "      <td>f</td>\n",
              "      <td>65</td>\n",
              "      <td>f</td>\n",
              "    </tr>\n",
              "    <tr>\n",
              "      <th>1</th>\n",
              "      <td>60</td>\n",
              "      <td>m</td>\n",
              "      <td>73</td>\n",
              "      <td>m</td>\n",
              "      <td>66</td>\n",
              "      <td>m</td>\n",
              "      <td>63</td>\n",
              "      <td>m</td>\n",
              "      <td>75</td>\n",
              "      <td>m</td>\n",
              "      <td>62</td>\n",
              "      <td>f</td>\n",
              "      <td>67</td>\n",
              "      <td>m</td>\n",
              "      <td>65</td>\n",
              "      <td>f</td>\n",
              "    </tr>\n",
              "    <tr>\n",
              "      <th>2</th>\n",
              "      <td>63</td>\n",
              "      <td>m</td>\n",
              "      <td>75</td>\n",
              "      <td>f</td>\n",
              "      <td>67</td>\n",
              "      <td>f</td>\n",
              "      <td>69</td>\n",
              "      <td>m</td>\n",
              "      <td>76</td>\n",
              "      <td>m</td>\n",
              "      <td>67</td>\n",
              "      <td>f</td>\n",
              "      <td>72</td>\n",
              "      <td>m</td>\n",
              "      <td>77</td>\n",
              "      <td>f</td>\n",
              "    </tr>\n",
              "    <tr>\n",
              "      <th>3</th>\n",
              "      <td>67</td>\n",
              "      <td>m</td>\n",
              "      <td>75</td>\n",
              "      <td>f</td>\n",
              "      <td>70</td>\n",
              "      <td>f</td>\n",
              "      <td>71</td>\n",
              "      <td>f</td>\n",
              "      <td>78</td>\n",
              "      <td>f</td>\n",
              "      <td>75</td>\n",
              "      <td>f</td>\n",
              "      <td>75</td>\n",
              "      <td>m</td>\n",
              "      <td>77</td>\n",
              "      <td>m</td>\n",
              "    </tr>\n",
              "    <tr>\n",
              "      <th>4</th>\n",
              "      <td>67</td>\n",
              "      <td>m</td>\n",
              "      <td>75</td>\n",
              "      <td>m</td>\n",
              "      <td>73</td>\n",
              "      <td>m</td>\n",
              "      <td>74</td>\n",
              "      <td>f</td>\n",
              "      <td>80</td>\n",
              "      <td>m</td>\n",
              "      <td>78</td>\n",
              "      <td>f</td>\n",
              "      <td>76</td>\n",
              "      <td>f</td>\n",
              "      <td>78</td>\n",
              "      <td>f</td>\n",
              "    </tr>\n",
              "  </tbody>\n",
              "</table>\n",
              "</div>\n",
              "      <button class=\"colab-df-convert\" onclick=\"convertToInteractive('df-10312ed9-2657-47c8-b500-3104fe5ee0f5')\"\n",
              "              title=\"Convert this dataframe to an interactive table.\"\n",
              "              style=\"display:none;\">\n",
              "        \n",
              "  <svg xmlns=\"http://www.w3.org/2000/svg\" height=\"24px\"viewBox=\"0 0 24 24\"\n",
              "       width=\"24px\">\n",
              "    <path d=\"M0 0h24v24H0V0z\" fill=\"none\"/>\n",
              "    <path d=\"M18.56 5.44l.94 2.06.94-2.06 2.06-.94-2.06-.94-.94-2.06-.94 2.06-2.06.94zm-11 1L8.5 8.5l.94-2.06 2.06-.94-2.06-.94L8.5 2.5l-.94 2.06-2.06.94zm10 10l.94 2.06.94-2.06 2.06-.94-2.06-.94-.94-2.06-.94 2.06-2.06.94z\"/><path d=\"M17.41 7.96l-1.37-1.37c-.4-.4-.92-.59-1.43-.59-.52 0-1.04.2-1.43.59L10.3 9.45l-7.72 7.72c-.78.78-.78 2.05 0 2.83L4 21.41c.39.39.9.59 1.41.59.51 0 1.02-.2 1.41-.59l7.78-7.78 2.81-2.81c.8-.78.8-2.07 0-2.86zM5.41 20L4 18.59l7.72-7.72 1.47 1.35L5.41 20z\"/>\n",
              "  </svg>\n",
              "      </button>\n",
              "      \n",
              "  <style>\n",
              "    .colab-df-container {\n",
              "      display:flex;\n",
              "      flex-wrap:wrap;\n",
              "      gap: 12px;\n",
              "    }\n",
              "\n",
              "    .colab-df-convert {\n",
              "      background-color: #E8F0FE;\n",
              "      border: none;\n",
              "      border-radius: 50%;\n",
              "      cursor: pointer;\n",
              "      display: none;\n",
              "      fill: #1967D2;\n",
              "      height: 32px;\n",
              "      padding: 0 0 0 0;\n",
              "      width: 32px;\n",
              "    }\n",
              "\n",
              "    .colab-df-convert:hover {\n",
              "      background-color: #E2EBFA;\n",
              "      box-shadow: 0px 1px 2px rgba(60, 64, 67, 0.3), 0px 1px 3px 1px rgba(60, 64, 67, 0.15);\n",
              "      fill: #174EA6;\n",
              "    }\n",
              "\n",
              "    [theme=dark] .colab-df-convert {\n",
              "      background-color: #3B4455;\n",
              "      fill: #D2E3FC;\n",
              "    }\n",
              "\n",
              "    [theme=dark] .colab-df-convert:hover {\n",
              "      background-color: #434B5C;\n",
              "      box-shadow: 0px 1px 3px 1px rgba(0, 0, 0, 0.15);\n",
              "      filter: drop-shadow(0px 1px 2px rgba(0, 0, 0, 0.3));\n",
              "      fill: #FFFFFF;\n",
              "    }\n",
              "  </style>\n",
              "\n",
              "      <script>\n",
              "        const buttonEl =\n",
              "          document.querySelector('#df-10312ed9-2657-47c8-b500-3104fe5ee0f5 button.colab-df-convert');\n",
              "        buttonEl.style.display =\n",
              "          google.colab.kernel.accessAllowed ? 'block' : 'none';\n",
              "\n",
              "        async function convertToInteractive(key) {\n",
              "          const element = document.querySelector('#df-10312ed9-2657-47c8-b500-3104fe5ee0f5');\n",
              "          const dataTable =\n",
              "            await google.colab.kernel.invokeFunction('convertToInteractive',\n",
              "                                                     [key], {});\n",
              "          if (!dataTable) return;\n",
              "\n",
              "          const docLinkHtml = 'Like what you see? Visit the ' +\n",
              "            '<a target=\"_blank\" href=https://colab.research.google.com/notebooks/data_table.ipynb>data table notebook</a>'\n",
              "            + ' to learn more about interactive tables.';\n",
              "          element.innerHTML = '';\n",
              "          dataTable['output_type'] = 'display_data';\n",
              "          await google.colab.output.renderOutput(dataTable, element);\n",
              "          const docLink = document.createElement('div');\n",
              "          docLink.innerHTML = docLinkHtml;\n",
              "          element.appendChild(docLink);\n",
              "        }\n",
              "      </script>\n",
              "    </div>\n",
              "  </div>\n",
              "  "
            ]
          },
          "metadata": {},
          "execution_count": 2
        }
      ]
    },
    {
      "cell_type": "markdown",
      "source": [
        "**Rename the column to look better. Pnadas appended .1,.2, etc to sex to avoid duplicate column names**"
      ],
      "metadata": {
        "id": "daydh1XRkILD"
      }
    },
    {
      "cell_type": "code",
      "source": [
        "df.rename(columns=\n",
        "          {'Sex': 'Sex1', 'Sex.1': 'Sex2', 'Sex.2': 'Sex3', 'Sex.3': 'Sex4', 'Sex.4': 'Sex5', 'Sex.5': 'Sex6', 'Sex.6':'Sex7', 'Sex.7': 'Sex8'\n",
        "           }, inplace=True\n",
        "          )\n",
        "df.columns"
      ],
      "metadata": {
        "colab": {
          "base_uri": "https://localhost:8080/"
        },
        "id": "0jw0btZtZ-3_",
        "outputId": "23fff7d5-99d6-44aa-f17c-32611c800fee"
      },
      "execution_count": null,
      "outputs": [
        {
          "output_type": "execute_result",
          "data": {
            "text/plain": [
              "Index(['Math Exam 1', 'Sex1', 'Math Exam 2', 'Sex2', 'Math Exam 3', 'Sex3',\n",
              "       'Math Exam 4', 'Sex4', 'History Exam 1', 'Sex5', 'History Exam 2',\n",
              "       'Sex6', 'History Exam 3', 'Sex7', 'History Exam 4', 'Sex8'],\n",
              "      dtype='object')"
            ]
          },
          "metadata": {},
          "execution_count": 3
        }
      ]
    },
    {
      "cell_type": "markdown",
      "source": [
        "**Check for null values**"
      ],
      "metadata": {
        "id": "qFFkgAvglXd-"
      }
    },
    {
      "cell_type": "code",
      "source": [
        "df.isnull().sum()"
      ],
      "metadata": {
        "colab": {
          "base_uri": "https://localhost:8080/"
        },
        "id": "-DWnpQ4ilcnA",
        "outputId": "6d16464e-2a62-4614-f0e7-85bc5c313fcf"
      },
      "execution_count": null,
      "outputs": [
        {
          "output_type": "execute_result",
          "data": {
            "text/plain": [
              "Math Exam 1       0\n",
              "Sex1              0\n",
              "Math Exam 2       0\n",
              "Sex2              0\n",
              "Math Exam 3       0\n",
              "Sex3              0\n",
              "Math Exam 4       0\n",
              "Sex4              0\n",
              "History Exam 1    0\n",
              "Sex5              0\n",
              "History Exam 2    0\n",
              "Sex6              0\n",
              "History Exam 3    0\n",
              "Sex7              0\n",
              "History Exam 4    0\n",
              "Sex8              0\n",
              "dtype: int64"
            ]
          },
          "metadata": {},
          "execution_count": 4
        }
      ]
    },
    {
      "cell_type": "markdown",
      "source": [
        "**Now, let's get some general dscription of the data**"
      ],
      "metadata": {
        "id": "iDMUj9SkkTSt"
      }
    },
    {
      "cell_type": "code",
      "source": [
        "df.describe()"
      ],
      "metadata": {
        "colab": {
          "base_uri": "https://localhost:8080/",
          "height": 300
        },
        "id": "2fFinRYtbW56",
        "outputId": "dc9b192f-d997-48d5-e835-c3d1f100fec8"
      },
      "execution_count": null,
      "outputs": [
        {
          "output_type": "execute_result",
          "data": {
            "text/plain": [
              "       Math Exam 1  Math Exam 2  Math Exam 3  Math Exam 4  History Exam 1  \\\n",
              "count    14.000000    14.000000    14.000000    14.000000       14.000000   \n",
              "mean     69.642857    78.357143    76.357143    76.214286       81.285714   \n",
              "std       9.524116     5.386695     6.890430     8.078257        4.462296   \n",
              "min      45.000000    66.000000    66.000000    61.000000       74.000000   \n",
              "25%      67.000000    75.000000    70.750000    71.750000       78.500000   \n",
              "50%      71.000000    78.000000    78.000000    77.000000       81.500000   \n",
              "75%      75.750000    83.000000    82.500000    83.000000       83.750000   \n",
              "max      82.000000    86.000000    85.000000    86.000000       89.000000   \n",
              "\n",
              "       History Exam 2  History Exam 3  History Exam 4  \n",
              "count       14.000000       14.000000       14.000000  \n",
              "mean        82.785714       79.000000       82.714286  \n",
              "std         12.423170        8.439832        9.603113  \n",
              "min         61.000000       60.000000       65.000000  \n",
              "25%         75.750000       75.250000       77.250000  \n",
              "50%         85.500000       81.000000       85.000000  \n",
              "75%         93.000000       85.750000       90.750000  \n",
              "max         96.000000       88.000000       93.000000  "
            ],
            "text/html": [
              "\n",
              "  <div id=\"df-0d98378e-601a-482d-8000-80a45216d5fe\">\n",
              "    <div class=\"colab-df-container\">\n",
              "      <div>\n",
              "<style scoped>\n",
              "    .dataframe tbody tr th:only-of-type {\n",
              "        vertical-align: middle;\n",
              "    }\n",
              "\n",
              "    .dataframe tbody tr th {\n",
              "        vertical-align: top;\n",
              "    }\n",
              "\n",
              "    .dataframe thead th {\n",
              "        text-align: right;\n",
              "    }\n",
              "</style>\n",
              "<table border=\"1\" class=\"dataframe\">\n",
              "  <thead>\n",
              "    <tr style=\"text-align: right;\">\n",
              "      <th></th>\n",
              "      <th>Math Exam 1</th>\n",
              "      <th>Math Exam 2</th>\n",
              "      <th>Math Exam 3</th>\n",
              "      <th>Math Exam 4</th>\n",
              "      <th>History Exam 1</th>\n",
              "      <th>History Exam 2</th>\n",
              "      <th>History Exam 3</th>\n",
              "      <th>History Exam 4</th>\n",
              "    </tr>\n",
              "  </thead>\n",
              "  <tbody>\n",
              "    <tr>\n",
              "      <th>count</th>\n",
              "      <td>14.000000</td>\n",
              "      <td>14.000000</td>\n",
              "      <td>14.000000</td>\n",
              "      <td>14.000000</td>\n",
              "      <td>14.000000</td>\n",
              "      <td>14.000000</td>\n",
              "      <td>14.000000</td>\n",
              "      <td>14.000000</td>\n",
              "    </tr>\n",
              "    <tr>\n",
              "      <th>mean</th>\n",
              "      <td>69.642857</td>\n",
              "      <td>78.357143</td>\n",
              "      <td>76.357143</td>\n",
              "      <td>76.214286</td>\n",
              "      <td>81.285714</td>\n",
              "      <td>82.785714</td>\n",
              "      <td>79.000000</td>\n",
              "      <td>82.714286</td>\n",
              "    </tr>\n",
              "    <tr>\n",
              "      <th>std</th>\n",
              "      <td>9.524116</td>\n",
              "      <td>5.386695</td>\n",
              "      <td>6.890430</td>\n",
              "      <td>8.078257</td>\n",
              "      <td>4.462296</td>\n",
              "      <td>12.423170</td>\n",
              "      <td>8.439832</td>\n",
              "      <td>9.603113</td>\n",
              "    </tr>\n",
              "    <tr>\n",
              "      <th>min</th>\n",
              "      <td>45.000000</td>\n",
              "      <td>66.000000</td>\n",
              "      <td>66.000000</td>\n",
              "      <td>61.000000</td>\n",
              "      <td>74.000000</td>\n",
              "      <td>61.000000</td>\n",
              "      <td>60.000000</td>\n",
              "      <td>65.000000</td>\n",
              "    </tr>\n",
              "    <tr>\n",
              "      <th>25%</th>\n",
              "      <td>67.000000</td>\n",
              "      <td>75.000000</td>\n",
              "      <td>70.750000</td>\n",
              "      <td>71.750000</td>\n",
              "      <td>78.500000</td>\n",
              "      <td>75.750000</td>\n",
              "      <td>75.250000</td>\n",
              "      <td>77.250000</td>\n",
              "    </tr>\n",
              "    <tr>\n",
              "      <th>50%</th>\n",
              "      <td>71.000000</td>\n",
              "      <td>78.000000</td>\n",
              "      <td>78.000000</td>\n",
              "      <td>77.000000</td>\n",
              "      <td>81.500000</td>\n",
              "      <td>85.500000</td>\n",
              "      <td>81.000000</td>\n",
              "      <td>85.000000</td>\n",
              "    </tr>\n",
              "    <tr>\n",
              "      <th>75%</th>\n",
              "      <td>75.750000</td>\n",
              "      <td>83.000000</td>\n",
              "      <td>82.500000</td>\n",
              "      <td>83.000000</td>\n",
              "      <td>83.750000</td>\n",
              "      <td>93.000000</td>\n",
              "      <td>85.750000</td>\n",
              "      <td>90.750000</td>\n",
              "    </tr>\n",
              "    <tr>\n",
              "      <th>max</th>\n",
              "      <td>82.000000</td>\n",
              "      <td>86.000000</td>\n",
              "      <td>85.000000</td>\n",
              "      <td>86.000000</td>\n",
              "      <td>89.000000</td>\n",
              "      <td>96.000000</td>\n",
              "      <td>88.000000</td>\n",
              "      <td>93.000000</td>\n",
              "    </tr>\n",
              "  </tbody>\n",
              "</table>\n",
              "</div>\n",
              "      <button class=\"colab-df-convert\" onclick=\"convertToInteractive('df-0d98378e-601a-482d-8000-80a45216d5fe')\"\n",
              "              title=\"Convert this dataframe to an interactive table.\"\n",
              "              style=\"display:none;\">\n",
              "        \n",
              "  <svg xmlns=\"http://www.w3.org/2000/svg\" height=\"24px\"viewBox=\"0 0 24 24\"\n",
              "       width=\"24px\">\n",
              "    <path d=\"M0 0h24v24H0V0z\" fill=\"none\"/>\n",
              "    <path d=\"M18.56 5.44l.94 2.06.94-2.06 2.06-.94-2.06-.94-.94-2.06-.94 2.06-2.06.94zm-11 1L8.5 8.5l.94-2.06 2.06-.94-2.06-.94L8.5 2.5l-.94 2.06-2.06.94zm10 10l.94 2.06.94-2.06 2.06-.94-2.06-.94-.94-2.06-.94 2.06-2.06.94z\"/><path d=\"M17.41 7.96l-1.37-1.37c-.4-.4-.92-.59-1.43-.59-.52 0-1.04.2-1.43.59L10.3 9.45l-7.72 7.72c-.78.78-.78 2.05 0 2.83L4 21.41c.39.39.9.59 1.41.59.51 0 1.02-.2 1.41-.59l7.78-7.78 2.81-2.81c.8-.78.8-2.07 0-2.86zM5.41 20L4 18.59l7.72-7.72 1.47 1.35L5.41 20z\"/>\n",
              "  </svg>\n",
              "      </button>\n",
              "      \n",
              "  <style>\n",
              "    .colab-df-container {\n",
              "      display:flex;\n",
              "      flex-wrap:wrap;\n",
              "      gap: 12px;\n",
              "    }\n",
              "\n",
              "    .colab-df-convert {\n",
              "      background-color: #E8F0FE;\n",
              "      border: none;\n",
              "      border-radius: 50%;\n",
              "      cursor: pointer;\n",
              "      display: none;\n",
              "      fill: #1967D2;\n",
              "      height: 32px;\n",
              "      padding: 0 0 0 0;\n",
              "      width: 32px;\n",
              "    }\n",
              "\n",
              "    .colab-df-convert:hover {\n",
              "      background-color: #E2EBFA;\n",
              "      box-shadow: 0px 1px 2px rgba(60, 64, 67, 0.3), 0px 1px 3px 1px rgba(60, 64, 67, 0.15);\n",
              "      fill: #174EA6;\n",
              "    }\n",
              "\n",
              "    [theme=dark] .colab-df-convert {\n",
              "      background-color: #3B4455;\n",
              "      fill: #D2E3FC;\n",
              "    }\n",
              "\n",
              "    [theme=dark] .colab-df-convert:hover {\n",
              "      background-color: #434B5C;\n",
              "      box-shadow: 0px 1px 3px 1px rgba(0, 0, 0, 0.15);\n",
              "      filter: drop-shadow(0px 1px 2px rgba(0, 0, 0, 0.3));\n",
              "      fill: #FFFFFF;\n",
              "    }\n",
              "  </style>\n",
              "\n",
              "      <script>\n",
              "        const buttonEl =\n",
              "          document.querySelector('#df-0d98378e-601a-482d-8000-80a45216d5fe button.colab-df-convert');\n",
              "        buttonEl.style.display =\n",
              "          google.colab.kernel.accessAllowed ? 'block' : 'none';\n",
              "\n",
              "        async function convertToInteractive(key) {\n",
              "          const element = document.querySelector('#df-0d98378e-601a-482d-8000-80a45216d5fe');\n",
              "          const dataTable =\n",
              "            await google.colab.kernel.invokeFunction('convertToInteractive',\n",
              "                                                     [key], {});\n",
              "          if (!dataTable) return;\n",
              "\n",
              "          const docLinkHtml = 'Like what you see? Visit the ' +\n",
              "            '<a target=\"_blank\" href=https://colab.research.google.com/notebooks/data_table.ipynb>data table notebook</a>'\n",
              "            + ' to learn more about interactive tables.';\n",
              "          element.innerHTML = '';\n",
              "          dataTable['output_type'] = 'display_data';\n",
              "          await google.colab.output.renderOutput(dataTable, element);\n",
              "          const docLink = document.createElement('div');\n",
              "          docLink.innerHTML = docLinkHtml;\n",
              "          element.appendChild(docLink);\n",
              "        }\n",
              "      </script>\n",
              "    </div>\n",
              "  </div>\n",
              "  "
            ]
          },
          "metadata": {},
          "execution_count": 5
        }
      ]
    },
    {
      "cell_type": "markdown",
      "source": [
        "**1. Which exact exam is the most challenging exam for male students?**"
      ],
      "metadata": {
        "id": "GFMPVhMUkoRi"
      }
    },
    {
      "cell_type": "markdown",
      "source": [
        "**Let's perform somedata cleaning to extract only that exam scores for male students alone**"
      ],
      "metadata": {
        "id": "00BRYvyu-2eT"
      }
    },
    {
      "cell_type": "code",
      "source": [
        "\n",
        "S1 = df[df['Sex1'] == 'm'][['Math Exam 1']]\n",
        "S2 = df[df['Sex2'] == 'm'][['Math Exam 2']]\n",
        "S3 = df[df['Sex3'] == 'm'][['Math Exam 3']]\n",
        "S4 = df[df['Sex4'] == 'm'][['Math Exam 4']]\n",
        "S5 = df[df['Sex5'] == 'm'][['History Exam 1']]\n",
        "S6 = df[df['Sex6'] == 'm'][['History Exam 2']]\n",
        "S7 = df[df['Sex7'] == 'm'][['History Exam 3']]\n",
        "S8 = df[df['Sex8'] == 'm'][['History Exam 4']]\n",
        "\n",
        "male_df = pd.concat([S1,S2,S3,S4,S5,S6,S7,S8], axis=1)\n",
        "male_df\n",
        "\n"
      ],
      "metadata": {
        "colab": {
          "base_uri": "https://localhost:8080/",
          "height": 488
        },
        "id": "nz-32UMr_CVI",
        "outputId": "5c510783-045b-4e3e-f4ea-97d52f9a71aa"
      },
      "execution_count": null,
      "outputs": [
        {
          "output_type": "execute_result",
          "data": {
            "text/plain": [
              "    Math Exam 1  Math Exam 2  Math Exam 3  Math Exam 4  History Exam 1  \\\n",
              "0          45.0          NaN          NaN         61.0             NaN   \n",
              "1          60.0         73.0         66.0         63.0            75.0   \n",
              "2          63.0          NaN          NaN         69.0            76.0   \n",
              "3          67.0          NaN          NaN          NaN             NaN   \n",
              "4          67.0         75.0         73.0          NaN            80.0   \n",
              "7          73.0          NaN          NaN         77.0             NaN   \n",
              "12         80.0         83.0         84.0          NaN            87.0   \n",
              "6           NaN         77.0         78.0          NaN            81.0   \n",
              "8           NaN         82.0         80.0          NaN            82.0   \n",
              "10          NaN         83.0         83.0         83.0             NaN   \n",
              "11          NaN         83.0         83.0         84.0             NaN   \n",
              "9           NaN          NaN          NaN         83.0             NaN   \n",
              "5           NaN          NaN          NaN          NaN            81.0   \n",
              "13          NaN          NaN          NaN          NaN             NaN   \n",
              "\n",
              "    History Exam 2  History Exam 3  History Exam 4  \n",
              "0             61.0             NaN             NaN  \n",
              "1              NaN            67.0             NaN  \n",
              "2              NaN            72.0             NaN  \n",
              "3              NaN            75.0            77.0  \n",
              "4              NaN             NaN             NaN  \n",
              "7             88.0             NaN            86.0  \n",
              "12             NaN             NaN             NaN  \n",
              "6             83.0            79.0             NaN  \n",
              "8             93.0            83.0            87.0  \n",
              "10             NaN             NaN            91.0  \n",
              "11             NaN            87.0             NaN  \n",
              "9             93.0            85.0            90.0  \n",
              "5             82.0             NaN            79.0  \n",
              "13            96.0             NaN            93.0  "
            ],
            "text/html": [
              "\n",
              "  <div id=\"df-0187593e-2ef4-4d77-8183-d52ff72b8f73\">\n",
              "    <div class=\"colab-df-container\">\n",
              "      <div>\n",
              "<style scoped>\n",
              "    .dataframe tbody tr th:only-of-type {\n",
              "        vertical-align: middle;\n",
              "    }\n",
              "\n",
              "    .dataframe tbody tr th {\n",
              "        vertical-align: top;\n",
              "    }\n",
              "\n",
              "    .dataframe thead th {\n",
              "        text-align: right;\n",
              "    }\n",
              "</style>\n",
              "<table border=\"1\" class=\"dataframe\">\n",
              "  <thead>\n",
              "    <tr style=\"text-align: right;\">\n",
              "      <th></th>\n",
              "      <th>Math Exam 1</th>\n",
              "      <th>Math Exam 2</th>\n",
              "      <th>Math Exam 3</th>\n",
              "      <th>Math Exam 4</th>\n",
              "      <th>History Exam 1</th>\n",
              "      <th>History Exam 2</th>\n",
              "      <th>History Exam 3</th>\n",
              "      <th>History Exam 4</th>\n",
              "    </tr>\n",
              "  </thead>\n",
              "  <tbody>\n",
              "    <tr>\n",
              "      <th>0</th>\n",
              "      <td>45.0</td>\n",
              "      <td>NaN</td>\n",
              "      <td>NaN</td>\n",
              "      <td>61.0</td>\n",
              "      <td>NaN</td>\n",
              "      <td>61.0</td>\n",
              "      <td>NaN</td>\n",
              "      <td>NaN</td>\n",
              "    </tr>\n",
              "    <tr>\n",
              "      <th>1</th>\n",
              "      <td>60.0</td>\n",
              "      <td>73.0</td>\n",
              "      <td>66.0</td>\n",
              "      <td>63.0</td>\n",
              "      <td>75.0</td>\n",
              "      <td>NaN</td>\n",
              "      <td>67.0</td>\n",
              "      <td>NaN</td>\n",
              "    </tr>\n",
              "    <tr>\n",
              "      <th>2</th>\n",
              "      <td>63.0</td>\n",
              "      <td>NaN</td>\n",
              "      <td>NaN</td>\n",
              "      <td>69.0</td>\n",
              "      <td>76.0</td>\n",
              "      <td>NaN</td>\n",
              "      <td>72.0</td>\n",
              "      <td>NaN</td>\n",
              "    </tr>\n",
              "    <tr>\n",
              "      <th>3</th>\n",
              "      <td>67.0</td>\n",
              "      <td>NaN</td>\n",
              "      <td>NaN</td>\n",
              "      <td>NaN</td>\n",
              "      <td>NaN</td>\n",
              "      <td>NaN</td>\n",
              "      <td>75.0</td>\n",
              "      <td>77.0</td>\n",
              "    </tr>\n",
              "    <tr>\n",
              "      <th>4</th>\n",
              "      <td>67.0</td>\n",
              "      <td>75.0</td>\n",
              "      <td>73.0</td>\n",
              "      <td>NaN</td>\n",
              "      <td>80.0</td>\n",
              "      <td>NaN</td>\n",
              "      <td>NaN</td>\n",
              "      <td>NaN</td>\n",
              "    </tr>\n",
              "    <tr>\n",
              "      <th>7</th>\n",
              "      <td>73.0</td>\n",
              "      <td>NaN</td>\n",
              "      <td>NaN</td>\n",
              "      <td>77.0</td>\n",
              "      <td>NaN</td>\n",
              "      <td>88.0</td>\n",
              "      <td>NaN</td>\n",
              "      <td>86.0</td>\n",
              "    </tr>\n",
              "    <tr>\n",
              "      <th>12</th>\n",
              "      <td>80.0</td>\n",
              "      <td>83.0</td>\n",
              "      <td>84.0</td>\n",
              "      <td>NaN</td>\n",
              "      <td>87.0</td>\n",
              "      <td>NaN</td>\n",
              "      <td>NaN</td>\n",
              "      <td>NaN</td>\n",
              "    </tr>\n",
              "    <tr>\n",
              "      <th>6</th>\n",
              "      <td>NaN</td>\n",
              "      <td>77.0</td>\n",
              "      <td>78.0</td>\n",
              "      <td>NaN</td>\n",
              "      <td>81.0</td>\n",
              "      <td>83.0</td>\n",
              "      <td>79.0</td>\n",
              "      <td>NaN</td>\n",
              "    </tr>\n",
              "    <tr>\n",
              "      <th>8</th>\n",
              "      <td>NaN</td>\n",
              "      <td>82.0</td>\n",
              "      <td>80.0</td>\n",
              "      <td>NaN</td>\n",
              "      <td>82.0</td>\n",
              "      <td>93.0</td>\n",
              "      <td>83.0</td>\n",
              "      <td>87.0</td>\n",
              "    </tr>\n",
              "    <tr>\n",
              "      <th>10</th>\n",
              "      <td>NaN</td>\n",
              "      <td>83.0</td>\n",
              "      <td>83.0</td>\n",
              "      <td>83.0</td>\n",
              "      <td>NaN</td>\n",
              "      <td>NaN</td>\n",
              "      <td>NaN</td>\n",
              "      <td>91.0</td>\n",
              "    </tr>\n",
              "    <tr>\n",
              "      <th>11</th>\n",
              "      <td>NaN</td>\n",
              "      <td>83.0</td>\n",
              "      <td>83.0</td>\n",
              "      <td>84.0</td>\n",
              "      <td>NaN</td>\n",
              "      <td>NaN</td>\n",
              "      <td>87.0</td>\n",
              "      <td>NaN</td>\n",
              "    </tr>\n",
              "    <tr>\n",
              "      <th>9</th>\n",
              "      <td>NaN</td>\n",
              "      <td>NaN</td>\n",
              "      <td>NaN</td>\n",
              "      <td>83.0</td>\n",
              "      <td>NaN</td>\n",
              "      <td>93.0</td>\n",
              "      <td>85.0</td>\n",
              "      <td>90.0</td>\n",
              "    </tr>\n",
              "    <tr>\n",
              "      <th>5</th>\n",
              "      <td>NaN</td>\n",
              "      <td>NaN</td>\n",
              "      <td>NaN</td>\n",
              "      <td>NaN</td>\n",
              "      <td>81.0</td>\n",
              "      <td>82.0</td>\n",
              "      <td>NaN</td>\n",
              "      <td>79.0</td>\n",
              "    </tr>\n",
              "    <tr>\n",
              "      <th>13</th>\n",
              "      <td>NaN</td>\n",
              "      <td>NaN</td>\n",
              "      <td>NaN</td>\n",
              "      <td>NaN</td>\n",
              "      <td>NaN</td>\n",
              "      <td>96.0</td>\n",
              "      <td>NaN</td>\n",
              "      <td>93.0</td>\n",
              "    </tr>\n",
              "  </tbody>\n",
              "</table>\n",
              "</div>\n",
              "      <button class=\"colab-df-convert\" onclick=\"convertToInteractive('df-0187593e-2ef4-4d77-8183-d52ff72b8f73')\"\n",
              "              title=\"Convert this dataframe to an interactive table.\"\n",
              "              style=\"display:none;\">\n",
              "        \n",
              "  <svg xmlns=\"http://www.w3.org/2000/svg\" height=\"24px\"viewBox=\"0 0 24 24\"\n",
              "       width=\"24px\">\n",
              "    <path d=\"M0 0h24v24H0V0z\" fill=\"none\"/>\n",
              "    <path d=\"M18.56 5.44l.94 2.06.94-2.06 2.06-.94-2.06-.94-.94-2.06-.94 2.06-2.06.94zm-11 1L8.5 8.5l.94-2.06 2.06-.94-2.06-.94L8.5 2.5l-.94 2.06-2.06.94zm10 10l.94 2.06.94-2.06 2.06-.94-2.06-.94-.94-2.06-.94 2.06-2.06.94z\"/><path d=\"M17.41 7.96l-1.37-1.37c-.4-.4-.92-.59-1.43-.59-.52 0-1.04.2-1.43.59L10.3 9.45l-7.72 7.72c-.78.78-.78 2.05 0 2.83L4 21.41c.39.39.9.59 1.41.59.51 0 1.02-.2 1.41-.59l7.78-7.78 2.81-2.81c.8-.78.8-2.07 0-2.86zM5.41 20L4 18.59l7.72-7.72 1.47 1.35L5.41 20z\"/>\n",
              "  </svg>\n",
              "      </button>\n",
              "      \n",
              "  <style>\n",
              "    .colab-df-container {\n",
              "      display:flex;\n",
              "      flex-wrap:wrap;\n",
              "      gap: 12px;\n",
              "    }\n",
              "\n",
              "    .colab-df-convert {\n",
              "      background-color: #E8F0FE;\n",
              "      border: none;\n",
              "      border-radius: 50%;\n",
              "      cursor: pointer;\n",
              "      display: none;\n",
              "      fill: #1967D2;\n",
              "      height: 32px;\n",
              "      padding: 0 0 0 0;\n",
              "      width: 32px;\n",
              "    }\n",
              "\n",
              "    .colab-df-convert:hover {\n",
              "      background-color: #E2EBFA;\n",
              "      box-shadow: 0px 1px 2px rgba(60, 64, 67, 0.3), 0px 1px 3px 1px rgba(60, 64, 67, 0.15);\n",
              "      fill: #174EA6;\n",
              "    }\n",
              "\n",
              "    [theme=dark] .colab-df-convert {\n",
              "      background-color: #3B4455;\n",
              "      fill: #D2E3FC;\n",
              "    }\n",
              "\n",
              "    [theme=dark] .colab-df-convert:hover {\n",
              "      background-color: #434B5C;\n",
              "      box-shadow: 0px 1px 3px 1px rgba(0, 0, 0, 0.15);\n",
              "      filter: drop-shadow(0px 1px 2px rgba(0, 0, 0, 0.3));\n",
              "      fill: #FFFFFF;\n",
              "    }\n",
              "  </style>\n",
              "\n",
              "      <script>\n",
              "        const buttonEl =\n",
              "          document.querySelector('#df-0187593e-2ef4-4d77-8183-d52ff72b8f73 button.colab-df-convert');\n",
              "        buttonEl.style.display =\n",
              "          google.colab.kernel.accessAllowed ? 'block' : 'none';\n",
              "\n",
              "        async function convertToInteractive(key) {\n",
              "          const element = document.querySelector('#df-0187593e-2ef4-4d77-8183-d52ff72b8f73');\n",
              "          const dataTable =\n",
              "            await google.colab.kernel.invokeFunction('convertToInteractive',\n",
              "                                                     [key], {});\n",
              "          if (!dataTable) return;\n",
              "\n",
              "          const docLinkHtml = 'Like what you see? Visit the ' +\n",
              "            '<a target=\"_blank\" href=https://colab.research.google.com/notebooks/data_table.ipynb>data table notebook</a>'\n",
              "            + ' to learn more about interactive tables.';\n",
              "          element.innerHTML = '';\n",
              "          dataTable['output_type'] = 'display_data';\n",
              "          await google.colab.output.renderOutput(dataTable, element);\n",
              "          const docLink = document.createElement('div');\n",
              "          docLink.innerHTML = docLinkHtml;\n",
              "          element.appendChild(docLink);\n",
              "        }\n",
              "      </script>\n",
              "    </div>\n",
              "  </div>\n",
              "  "
            ]
          },
          "metadata": {},
          "execution_count": 6
        }
      ]
    },
    {
      "cell_type": "markdown",
      "source": [
        "The extracted male data has NAN at the cells where female scores were. let's cleanit up to remove those NAN values"
      ],
      "metadata": {
        "id": "t1InBTKY_oHp"
      }
    },
    {
      "cell_type": "code",
      "source": [
        "\n",
        "male_df = (male_df.apply(lambda x: pd.Series(x.dropna().values), axis=0)\n",
        "         .fillna('')\n",
        "       )\n",
        "male_df\n"
      ],
      "metadata": {
        "colab": {
          "base_uri": "https://localhost:8080/",
          "height": 269
        },
        "id": "-NYzpIX3_o4T",
        "outputId": "650ca0dc-8b70-420d-f80e-f4b4eb5e9064"
      },
      "execution_count": null,
      "outputs": [
        {
          "output_type": "execute_result",
          "data": {
            "text/plain": [
              "   Math Exam 1  Math Exam 2  Math Exam 3  Math Exam 4  History Exam 1  \\\n",
              "0         45.0         73.0         66.0         61.0            75.0   \n",
              "1         60.0         75.0         73.0         63.0            76.0   \n",
              "2         63.0         83.0         84.0         69.0            80.0   \n",
              "3         67.0         77.0         78.0         77.0            87.0   \n",
              "4         67.0         82.0         80.0         83.0            81.0   \n",
              "5         73.0         83.0         83.0         84.0            82.0   \n",
              "6         80.0         83.0         83.0         83.0            81.0   \n",
              "\n",
              "   History Exam 2  History Exam 3  History Exam 4  \n",
              "0            61.0            67.0            77.0  \n",
              "1            88.0            72.0            86.0  \n",
              "2            83.0            75.0            87.0  \n",
              "3            93.0            79.0            91.0  \n",
              "4            93.0            83.0            90.0  \n",
              "5            82.0            87.0            79.0  \n",
              "6            96.0            85.0            93.0  "
            ],
            "text/html": [
              "\n",
              "  <div id=\"df-945a12df-426b-41c1-858f-3322bd10bb15\">\n",
              "    <div class=\"colab-df-container\">\n",
              "      <div>\n",
              "<style scoped>\n",
              "    .dataframe tbody tr th:only-of-type {\n",
              "        vertical-align: middle;\n",
              "    }\n",
              "\n",
              "    .dataframe tbody tr th {\n",
              "        vertical-align: top;\n",
              "    }\n",
              "\n",
              "    .dataframe thead th {\n",
              "        text-align: right;\n",
              "    }\n",
              "</style>\n",
              "<table border=\"1\" class=\"dataframe\">\n",
              "  <thead>\n",
              "    <tr style=\"text-align: right;\">\n",
              "      <th></th>\n",
              "      <th>Math Exam 1</th>\n",
              "      <th>Math Exam 2</th>\n",
              "      <th>Math Exam 3</th>\n",
              "      <th>Math Exam 4</th>\n",
              "      <th>History Exam 1</th>\n",
              "      <th>History Exam 2</th>\n",
              "      <th>History Exam 3</th>\n",
              "      <th>History Exam 4</th>\n",
              "    </tr>\n",
              "  </thead>\n",
              "  <tbody>\n",
              "    <tr>\n",
              "      <th>0</th>\n",
              "      <td>45.0</td>\n",
              "      <td>73.0</td>\n",
              "      <td>66.0</td>\n",
              "      <td>61.0</td>\n",
              "      <td>75.0</td>\n",
              "      <td>61.0</td>\n",
              "      <td>67.0</td>\n",
              "      <td>77.0</td>\n",
              "    </tr>\n",
              "    <tr>\n",
              "      <th>1</th>\n",
              "      <td>60.0</td>\n",
              "      <td>75.0</td>\n",
              "      <td>73.0</td>\n",
              "      <td>63.0</td>\n",
              "      <td>76.0</td>\n",
              "      <td>88.0</td>\n",
              "      <td>72.0</td>\n",
              "      <td>86.0</td>\n",
              "    </tr>\n",
              "    <tr>\n",
              "      <th>2</th>\n",
              "      <td>63.0</td>\n",
              "      <td>83.0</td>\n",
              "      <td>84.0</td>\n",
              "      <td>69.0</td>\n",
              "      <td>80.0</td>\n",
              "      <td>83.0</td>\n",
              "      <td>75.0</td>\n",
              "      <td>87.0</td>\n",
              "    </tr>\n",
              "    <tr>\n",
              "      <th>3</th>\n",
              "      <td>67.0</td>\n",
              "      <td>77.0</td>\n",
              "      <td>78.0</td>\n",
              "      <td>77.0</td>\n",
              "      <td>87.0</td>\n",
              "      <td>93.0</td>\n",
              "      <td>79.0</td>\n",
              "      <td>91.0</td>\n",
              "    </tr>\n",
              "    <tr>\n",
              "      <th>4</th>\n",
              "      <td>67.0</td>\n",
              "      <td>82.0</td>\n",
              "      <td>80.0</td>\n",
              "      <td>83.0</td>\n",
              "      <td>81.0</td>\n",
              "      <td>93.0</td>\n",
              "      <td>83.0</td>\n",
              "      <td>90.0</td>\n",
              "    </tr>\n",
              "    <tr>\n",
              "      <th>5</th>\n",
              "      <td>73.0</td>\n",
              "      <td>83.0</td>\n",
              "      <td>83.0</td>\n",
              "      <td>84.0</td>\n",
              "      <td>82.0</td>\n",
              "      <td>82.0</td>\n",
              "      <td>87.0</td>\n",
              "      <td>79.0</td>\n",
              "    </tr>\n",
              "    <tr>\n",
              "      <th>6</th>\n",
              "      <td>80.0</td>\n",
              "      <td>83.0</td>\n",
              "      <td>83.0</td>\n",
              "      <td>83.0</td>\n",
              "      <td>81.0</td>\n",
              "      <td>96.0</td>\n",
              "      <td>85.0</td>\n",
              "      <td>93.0</td>\n",
              "    </tr>\n",
              "  </tbody>\n",
              "</table>\n",
              "</div>\n",
              "      <button class=\"colab-df-convert\" onclick=\"convertToInteractive('df-945a12df-426b-41c1-858f-3322bd10bb15')\"\n",
              "              title=\"Convert this dataframe to an interactive table.\"\n",
              "              style=\"display:none;\">\n",
              "        \n",
              "  <svg xmlns=\"http://www.w3.org/2000/svg\" height=\"24px\"viewBox=\"0 0 24 24\"\n",
              "       width=\"24px\">\n",
              "    <path d=\"M0 0h24v24H0V0z\" fill=\"none\"/>\n",
              "    <path d=\"M18.56 5.44l.94 2.06.94-2.06 2.06-.94-2.06-.94-.94-2.06-.94 2.06-2.06.94zm-11 1L8.5 8.5l.94-2.06 2.06-.94-2.06-.94L8.5 2.5l-.94 2.06-2.06.94zm10 10l.94 2.06.94-2.06 2.06-.94-2.06-.94-.94-2.06-.94 2.06-2.06.94z\"/><path d=\"M17.41 7.96l-1.37-1.37c-.4-.4-.92-.59-1.43-.59-.52 0-1.04.2-1.43.59L10.3 9.45l-7.72 7.72c-.78.78-.78 2.05 0 2.83L4 21.41c.39.39.9.59 1.41.59.51 0 1.02-.2 1.41-.59l7.78-7.78 2.81-2.81c.8-.78.8-2.07 0-2.86zM5.41 20L4 18.59l7.72-7.72 1.47 1.35L5.41 20z\"/>\n",
              "  </svg>\n",
              "      </button>\n",
              "      \n",
              "  <style>\n",
              "    .colab-df-container {\n",
              "      display:flex;\n",
              "      flex-wrap:wrap;\n",
              "      gap: 12px;\n",
              "    }\n",
              "\n",
              "    .colab-df-convert {\n",
              "      background-color: #E8F0FE;\n",
              "      border: none;\n",
              "      border-radius: 50%;\n",
              "      cursor: pointer;\n",
              "      display: none;\n",
              "      fill: #1967D2;\n",
              "      height: 32px;\n",
              "      padding: 0 0 0 0;\n",
              "      width: 32px;\n",
              "    }\n",
              "\n",
              "    .colab-df-convert:hover {\n",
              "      background-color: #E2EBFA;\n",
              "      box-shadow: 0px 1px 2px rgba(60, 64, 67, 0.3), 0px 1px 3px 1px rgba(60, 64, 67, 0.15);\n",
              "      fill: #174EA6;\n",
              "    }\n",
              "\n",
              "    [theme=dark] .colab-df-convert {\n",
              "      background-color: #3B4455;\n",
              "      fill: #D2E3FC;\n",
              "    }\n",
              "\n",
              "    [theme=dark] .colab-df-convert:hover {\n",
              "      background-color: #434B5C;\n",
              "      box-shadow: 0px 1px 3px 1px rgba(0, 0, 0, 0.15);\n",
              "      filter: drop-shadow(0px 1px 2px rgba(0, 0, 0, 0.3));\n",
              "      fill: #FFFFFF;\n",
              "    }\n",
              "  </style>\n",
              "\n",
              "      <script>\n",
              "        const buttonEl =\n",
              "          document.querySelector('#df-945a12df-426b-41c1-858f-3322bd10bb15 button.colab-df-convert');\n",
              "        buttonEl.style.display =\n",
              "          google.colab.kernel.accessAllowed ? 'block' : 'none';\n",
              "\n",
              "        async function convertToInteractive(key) {\n",
              "          const element = document.querySelector('#df-945a12df-426b-41c1-858f-3322bd10bb15');\n",
              "          const dataTable =\n",
              "            await google.colab.kernel.invokeFunction('convertToInteractive',\n",
              "                                                     [key], {});\n",
              "          if (!dataTable) return;\n",
              "\n",
              "          const docLinkHtml = 'Like what you see? Visit the ' +\n",
              "            '<a target=\"_blank\" href=https://colab.research.google.com/notebooks/data_table.ipynb>data table notebook</a>'\n",
              "            + ' to learn more about interactive tables.';\n",
              "          element.innerHTML = '';\n",
              "          dataTable['output_type'] = 'display_data';\n",
              "          await google.colab.output.renderOutput(dataTable, element);\n",
              "          const docLink = document.createElement('div');\n",
              "          docLink.innerHTML = docLinkHtml;\n",
              "          element.appendChild(docLink);\n",
              "        }\n",
              "      </script>\n",
              "    </div>\n",
              "  </div>\n",
              "  "
            ]
          },
          "metadata": {},
          "execution_count": 7
        }
      ]
    },
    {
      "cell_type": "code",
      "source": [
        "male_df.isna().sum()"
      ],
      "metadata": {
        "colab": {
          "base_uri": "https://localhost:8080/"
        },
        "id": "Tv-uACyOPHTp",
        "outputId": "10baa05c-5eee-4e9d-fba3-2a6094acf15f"
      },
      "execution_count": null,
      "outputs": [
        {
          "output_type": "execute_result",
          "data": {
            "text/plain": [
              "Math Exam 1       0\n",
              "Math Exam 2       0\n",
              "Math Exam 3       0\n",
              "Math Exam 4       0\n",
              "History Exam 1    0\n",
              "History Exam 2    0\n",
              "History Exam 3    0\n",
              "History Exam 4    0\n",
              "dtype: int64"
            ]
          },
          "metadata": {},
          "execution_count": 8
        }
      ]
    },
    {
      "cell_type": "markdown",
      "source": [
        "The male data is now completedly cleaned as seen above. Now, we answer the question"
      ],
      "metadata": {
        "id": "9ul2k_RN_-Er"
      }
    },
    {
      "cell_type": "code",
      "source": [
        "# calculate mean score for each exam by male students\n",
        "male_mean = male_df.mean()\n",
        "\n",
        "# plot the results\n",
        "plt.bar(['Math Exam 1', 'Math Exam 2', 'Math Exam 3', 'Math Exam 4', 'History Exam 1', 'History Exam 2', 'History Exam 3', 'History Exam 4'], male_mean)\n",
        "plt.title('Mean Scores for Male Students in All Exams')\n",
        "plt.xlabel('Exam')\n",
        "plt.ylabel('Mean Score')\n",
        "plt.xticks(rotation=75)\n",
        "plt.show()\n",
        "# Print the mean scores for each exam\n",
        "print(male_mean)"
      ],
      "metadata": {
        "colab": {
          "base_uri": "https://localhost:8080/",
          "height": 647
        },
        "id": "AznN42qCbqIT",
        "outputId": "76f664f8-4515-49bd-c779-6b85ac5c04c7"
      },
      "execution_count": null,
      "outputs": [
        {
          "output_type": "display_data",
          "data": {
            "text/plain": [
              "<Figure size 640x480 with 1 Axes>"
            ],
            "image/png": "[encoded data removed]"
          },
          "metadata": {}
        },
        {
          "output_type": "stream",
          "name": "stdout",
          "text": [
            "Math Exam 1       65.000000\n",
            "Math Exam 2       79.428571\n",
            "Math Exam 3       78.142857\n",
            "Math Exam 4       74.285714\n",
            "History Exam 1    80.285714\n",
            "History Exam 2    85.142857\n",
            "History Exam 3    78.285714\n",
            "History Exam 4    86.142857\n",
            "dtype: float64\n"
          ]
        }
      ]
    },
    {
      "cell_type": "markdown",
      "source": [
        "From the above, we can see that male students scored the lowest in Math Exam 1. **Hence Math Exam 1 is the most challenging for male students.** In addition to answering the question,we can check between Math and History exams,which of them is more difficult to male by aggregating the scores for the two exams as follows"
      ],
      "metadata": {
        "id": "jJn45jdLs_oZ"
      }
    },
    {
      "cell_type": "code",
      "source": [
        "# calculate mean score for Math and History exams by male students\n",
        "male_math_mean = male_df[['Math Exam 1', 'Math Exam 2', 'Math Exam 3', 'Math Exam 4']].mean().mean()\n",
        "male_history_mean = male_df[['History Exam 1', 'History Exam 2', 'History Exam 3', 'History Exam 4']].mean().mean()\n",
        "\n",
        "print(f'Male mean in Math: {male_math_mean}')\n",
        "print(f'Male mean in History: {male_history_mean}')\n",
        "\n",
        "# plot the results\n",
        "plt.bar(['Math Exams', 'History Exams'], [male_math_mean, male_history_mean])\n",
        "plt.title('Mean Scores for Male Students in Math and History Exams')\n",
        "plt.xlabel('Exam Type')\n",
        "plt.ylabel('Mean Score')\n",
        "plt.show()\n"
      ],
      "metadata": {
        "colab": {
          "base_uri": "https://localhost:8080/",
          "height": 522
        },
        "id": "BTdR2FU-sw9b",
        "outputId": "ecfd9bd3-e631-49dc-9144-f808e46bec75"
      },
      "execution_count": null,
      "outputs": [
        {
          "output_type": "stream",
          "name": "stdout",
          "text": [
            "Male mean in Math: 74.21428571428572\n",
            "Male mean in History: 82.46428571428572\n"
          ]
        },
        {
          "output_type": "display_data",
          "data": {
            "text/plain": [
              "<Figure size 640x480 with 1 Axes>"
            ],
            "image/png": "[encoded data removed]"
          },
          "metadata": {}
        }
      ]
    },
    {
      "cell_type": "markdown",
      "source": [
        "In addition,from the above, we see that male generally scored lower in Math than in History."
      ],
      "metadata": {
        "id": "gmU3P7lguD3A"
      }
    },
    {
      "cell_type": "code",
      "source": [
        "male_math_std = male_df[['Math Exam 1', 'Math Exam 2', 'Math Exam 3', 'Math Exam 4']].std().mean()\n",
        "male_history_std = male_df[['History Exam 1', 'History Exam 2', 'History Exam 3', 'History Exam 4']].std().mean()\n",
        "\n",
        "print(f'Male mean in Math: {male_math_std}')\n",
        "print(f'Male mean in History: {male_history_std}')\n"
      ],
      "metadata": {
        "colab": {
          "base_uri": "https://localhost:8080/"
        },
        "id": "gnHI0xDTvPer",
        "outputId": "1ad7656f-022c-4504-86c8-4a93098d3cc4"
      },
      "execution_count": null,
      "outputs": [
        {
          "output_type": "stream",
          "name": "stdout",
          "text": [
            "Male mean in Math: 7.94028169658046\n",
            "Male mean in History: 7.3136923082765515\n"
          ]
        }
      ]
    },
    {
      "cell_type": "code",
      "source": [
        "male_std = df.groupby('Sex1').std().T['m']\n",
        "print(male_std)"
      ],
      "metadata": {
        "colab": {
          "base_uri": "https://localhost:8080/"
        },
        "id": "kIdYIqoJ3jSi",
        "outputId": "8ca8a810-0818-4bfe-fbc9-2b0229f1d3a0"
      },
      "execution_count": null,
      "outputs": [
        {
          "output_type": "stream",
          "name": "stdout",
          "text": [
            "Math Exam 1       11.000000\n",
            "Math Exam 2        5.241774\n",
            "Math Exam 3        6.855655\n",
            "Math Exam 4        8.521681\n",
            "History Exam 1     4.561746\n",
            "History Exam 2    12.701706\n",
            "History Exam 3     9.396048\n",
            "History Exam 4    10.209706\n",
            "Name: m, dtype: float64\n"
          ]
        }
      ]
    },
    {
      "cell_type": "markdown",
      "source": [
        "From the standard deviations above, we can see how the scores in each exact exam are spread out"
      ],
      "metadata": {
        "id": "UXu0N4jZxTwE"
      }
    },
    {
      "cell_type": "markdown",
      "source": [
        "**2. In general, which type of exam is the easier for all the students?**\n",
        "\n",
        "This can be answered using the mean score for all the students in either math or history exam type."
      ],
      "metadata": {
        "id": "7C2GfueCyPGW"
      }
    },
    {
      "cell_type": "code",
      "source": [
        "# First, let me separate the data into relevant sub-datasets\n",
        "\n",
        "math_df = df[['Math Exam 1', 'Sex1', 'Math Exam 2', 'Sex2', 'Math Exam 3', 'Sex3', 'Math Exam 4', 'Sex4']]\n",
        "history_df = df[['History Exam 1', 'Sex5', 'History Exam 2', 'Sex6', 'History Exam 3', 'Sex7', 'History Exam 4', 'Sex8']]"
      ],
      "metadata": {
        "id": "Rjl-Sja6yUjj"
      },
      "execution_count": null,
      "outputs": []
    },
    {
      "cell_type": "code",
      "source": [
        "# calculate mean score for each exam by all students\n",
        "math_mean = math_df.mean().mean()\n",
        "history_mean = history_df.mean().mean()\n",
        "print(f'Math Mean: {math_mean}')\n",
        "print(f'History Mean: {history_mean}')\n",
        "\n",
        "# confirm with plot also\n",
        "plt.bar(['Math Exams', 'History Exams'], [math_mean, history_mean])\n",
        "plt.title('Mean Scores for All Students in Math and History Exams')\n",
        "plt.xlabel('Exam Type')\n",
        "plt.ylabel('Mean Score')\n",
        "plt.show()"
      ],
      "metadata": {
        "colab": {
          "base_uri": "https://localhost:8080/",
          "height": 522
        },
        "id": "sj5Xuc1DylXq",
        "outputId": "f1ef98d4-972a-4c71-9e47-eb773b813ce1"
      },
      "execution_count": null,
      "outputs": [
        {
          "output_type": "stream",
          "name": "stdout",
          "text": [
            "Math Mean: 75.14285714285714\n",
            "History Mean: 81.44642857142857\n"
          ]
        },
        {
          "output_type": "display_data",
          "data": {
            "text/plain": [
              "<Figure size 640x480 with 1 Axes>"
            ],
            "image/png": "[encoded data removed]"
          },
          "metadata": {}
        }
      ]
    },
    {
      "cell_type": "markdown",
      "source": [
        "Therefore, History is generally easier than Math for all students."
      ],
      "metadata": {
        "id": "k8cjuHjd1sF4"
      }
    },
    {
      "cell_type": "markdown",
      "source": [
        "**3. Comparing to math exam, whether female students do better in the history exam than male?**"
      ],
      "metadata": {
        "id": "eL57jVaC4JTS"
      }
    },
    {
      "cell_type": "code",
      "source": [
        "f1 = df[df['Sex1'] == 'f'][['Math Exam 1']]\n",
        "f2 = df[df['Sex2'] == 'f'][['Math Exam 2']]\n",
        "f3 = df[df['Sex3'] == 'f'][['Math Exam 3']]\n",
        "f4 = df[df['Sex4'] == 'f'][['Math Exam 4']]\n",
        "f5 = df[df['Sex5'] == 'f'][['History Exam 1']]\n",
        "f6 = df[df['Sex6'] == 'f'][['History Exam 2']]\n",
        "f7 = df[df['Sex7'] == 'f'][['History Exam 3']]\n",
        "f8 = df[df['Sex8'] == 'f'][['History Exam 4']]\n",
        "\n",
        "female_df = pd.concat([f1,f2,f3,f4,f5,f6,f7,f8], axis=1)\n",
        "\n",
        "female_df = (female_df.apply(lambda x: pd.Series(x.dropna().values), axis=0)\n",
        "         .fillna('')\n",
        "       )\n",
        "female_df\n"
      ],
      "metadata": {
        "colab": {
          "base_uri": "https://localhost:8080/",
          "height": 269
        },
        "id": "cZXHvu-5Dzvx",
        "outputId": "48e89320-e002-400c-9313-9c625ea84724"
      },
      "execution_count": null,
      "outputs": [
        {
          "output_type": "execute_result",
          "data": {
            "text/plain": [
              "   Math Exam 1  Math Exam 2  Math Exam 3  Math Exam 4  History Exam 1  \\\n",
              "0         67.0         77.0         75.0         74.0            83.0   \n",
              "1         69.0         83.0         81.0         77.0            84.0   \n",
              "2         74.0         86.0         85.0         79.0            86.0   \n",
              "3         75.0         66.0         66.0         86.0            89.0   \n",
              "4         76.0         75.0         67.0         71.0            74.0   \n",
              "5         77.0         75.0         70.0         74.0            78.0   \n",
              "6         82.0         79.0         78.0         86.0            82.0   \n",
              "\n",
              "   History Exam 2  History Exam 3  History Exam 4  \n",
              "0            93.0            77.0            84.0  \n",
              "1            94.0            86.0            93.0  \n",
              "2            67.0            88.0            65.0  \n",
              "3            75.0            60.0            77.0  \n",
              "4            78.0            83.0            78.0  \n",
              "5            94.0            76.0            93.0  \n",
              "6            62.0            88.0            65.0  "
            ],
            "text/html": [
              "\n",
              "  <div id=\"df-5c9ec066-bc07-4bac-85b5-e73dbc6b6c09\">\n",
              "    <div class=\"colab-df-container\">\n",
              "      <div>\n",
              "<style scoped>\n",
              "    .dataframe tbody tr th:only-of-type {\n",
              "        vertical-align: middle;\n",
              "    }\n",
              "\n",
              "    .dataframe tbody tr th {\n",
              "        vertical-align: top;\n",
              "    }\n",
              "\n",
              "    .dataframe thead th {\n",
              "        text-align: right;\n",
              "    }\n",
              "</style>\n",
              "<table border=\"1\" class=\"dataframe\">\n",
              "  <thead>\n",
              "    <tr style=\"text-align: right;\">\n",
              "      <th></th>\n",
              "      <th>Math Exam 1</th>\n",
              "      <th>Math Exam 2</th>\n",
              "      <th>Math Exam 3</th>\n",
              "      <th>Math Exam 4</th>\n",
              "      <th>History Exam 1</th>\n",
              "      <th>History Exam 2</th>\n",
              "      <th>History Exam 3</th>\n",
              "      <th>History Exam 4</th>\n",
              "    </tr>\n",
              "  </thead>\n",
              "  <tbody>\n",
              "    <tr>\n",
              "      <th>0</th>\n",
              "      <td>67.0</td>\n",
              "      <td>77.0</td>\n",
              "      <td>75.0</td>\n",
              "      <td>74.0</td>\n",
              "      <td>83.0</td>\n",
              "      <td>93.0</td>\n",
              "      <td>77.0</td>\n",
              "      <td>84.0</td>\n",
              "    </tr>\n",
              "    <tr>\n",
              "      <th>1</th>\n",
              "      <td>69.0</td>\n",
              "      <td>83.0</td>\n",
              "      <td>81.0</td>\n",
              "      <td>77.0</td>\n",
              "      <td>84.0</td>\n",
              "      <td>94.0</td>\n",
              "      <td>86.0</td>\n",
              "      <td>93.0</td>\n",
              "    </tr>\n",
              "    <tr>\n",
              "      <th>2</th>\n",
              "      <td>74.0</td>\n",
              "      <td>86.0</td>\n",
              "      <td>85.0</td>\n",
              "      <td>79.0</td>\n",
              "      <td>86.0</td>\n",
              "      <td>67.0</td>\n",
              "      <td>88.0</td>\n",
              "      <td>65.0</td>\n",
              "    </tr>\n",
              "    <tr>\n",
              "      <th>3</th>\n",
              "      <td>75.0</td>\n",
              "      <td>66.0</td>\n",
              "      <td>66.0</td>\n",
              "      <td>86.0</td>\n",
              "      <td>89.0</td>\n",
              "      <td>75.0</td>\n",
              "      <td>60.0</td>\n",
              "      <td>77.0</td>\n",
              "    </tr>\n",
              "    <tr>\n",
              "      <th>4</th>\n",
              "      <td>76.0</td>\n",
              "      <td>75.0</td>\n",
              "      <td>67.0</td>\n",
              "      <td>71.0</td>\n",
              "      <td>74.0</td>\n",
              "      <td>78.0</td>\n",
              "      <td>83.0</td>\n",
              "      <td>78.0</td>\n",
              "    </tr>\n",
              "    <tr>\n",
              "      <th>5</th>\n",
              "      <td>77.0</td>\n",
              "      <td>75.0</td>\n",
              "      <td>70.0</td>\n",
              "      <td>74.0</td>\n",
              "      <td>78.0</td>\n",
              "      <td>94.0</td>\n",
              "      <td>76.0</td>\n",
              "      <td>93.0</td>\n",
              "    </tr>\n",
              "    <tr>\n",
              "      <th>6</th>\n",
              "      <td>82.0</td>\n",
              "      <td>79.0</td>\n",
              "      <td>78.0</td>\n",
              "      <td>86.0</td>\n",
              "      <td>82.0</td>\n",
              "      <td>62.0</td>\n",
              "      <td>88.0</td>\n",
              "      <td>65.0</td>\n",
              "    </tr>\n",
              "  </tbody>\n",
              "</table>\n",
              "</div>\n",
              "      <button class=\"colab-df-convert\" onclick=\"convertToInteractive('df-5c9ec066-bc07-4bac-85b5-e73dbc6b6c09')\"\n",
              "              title=\"Convert this dataframe to an interactive table.\"\n",
              "              style=\"display:none;\">\n",
              "        \n",
              "  <svg xmlns=\"http://www.w3.org/2000/svg\" height=\"24px\"viewBox=\"0 0 24 24\"\n",
              "       width=\"24px\">\n",
              "    <path d=\"M0 0h24v24H0V0z\" fill=\"none\"/>\n",
              "    <path d=\"M18.56 5.44l.94 2.06.94-2.06 2.06-.94-2.06-.94-.94-2.06-.94 2.06-2.06.94zm-11 1L8.5 8.5l.94-2.06 2.06-.94-2.06-.94L8.5 2.5l-.94 2.06-2.06.94zm10 10l.94 2.06.94-2.06 2.06-.94-2.06-.94-.94-2.06-.94 2.06-2.06.94z\"/><path d=\"M17.41 7.96l-1.37-1.37c-.4-.4-.92-.59-1.43-.59-.52 0-1.04.2-1.43.59L10.3 9.45l-7.72 7.72c-.78.78-.78 2.05 0 2.83L4 21.41c.39.39.9.59 1.41.59.51 0 1.02-.2 1.41-.59l7.78-7.78 2.81-2.81c.8-.78.8-2.07 0-2.86zM5.41 20L4 18.59l7.72-7.72 1.47 1.35L5.41 20z\"/>\n",
              "  </svg>\n",
              "      </button>\n",
              "      \n",
              "  <style>\n",
              "    .colab-df-container {\n",
              "      display:flex;\n",
              "      flex-wrap:wrap;\n",
              "      gap: 12px;\n",
              "    }\n",
              "\n",
              "    .colab-df-convert {\n",
              "      background-color: #E8F0FE;\n",
              "      border: none;\n",
              "      border-radius: 50%;\n",
              "      cursor: pointer;\n",
              "      display: none;\n",
              "      fill: #1967D2;\n",
              "      height: 32px;\n",
              "      padding: 0 0 0 0;\n",
              "      width: 32px;\n",
              "    }\n",
              "\n",
              "    .colab-df-convert:hover {\n",
              "      background-color: #E2EBFA;\n",
              "      box-shadow: 0px 1px 2px rgba(60, 64, 67, 0.3), 0px 1px 3px 1px rgba(60, 64, 67, 0.15);\n",
              "      fill: #174EA6;\n",
              "    }\n",
              "\n",
              "    [theme=dark] .colab-df-convert {\n",
              "      background-color: #3B4455;\n",
              "      fill: #D2E3FC;\n",
              "    }\n",
              "\n",
              "    [theme=dark] .colab-df-convert:hover {\n",
              "      background-color: #434B5C;\n",
              "      box-shadow: 0px 1px 3px 1px rgba(0, 0, 0, 0.15);\n",
              "      filter: drop-shadow(0px 1px 2px rgba(0, 0, 0, 0.3));\n",
              "      fill: #FFFFFF;\n",
              "    }\n",
              "  </style>\n",
              "\n",
              "      <script>\n",
              "        const buttonEl =\n",
              "          document.querySelector('#df-5c9ec066-bc07-4bac-85b5-e73dbc6b6c09 button.colab-df-convert');\n",
              "        buttonEl.style.display =\n",
              "          google.colab.kernel.accessAllowed ? 'block' : 'none';\n",
              "\n",
              "        async function convertToInteractive(key) {\n",
              "          const element = document.querySelector('#df-5c9ec066-bc07-4bac-85b5-e73dbc6b6c09');\n",
              "          const dataTable =\n",
              "            await google.colab.kernel.invokeFunction('convertToInteractive',\n",
              "                                                     [key], {});\n",
              "          if (!dataTable) return;\n",
              "\n",
              "          const docLinkHtml = 'Like what you see? Visit the ' +\n",
              "            '<a target=\"_blank\" href=https://colab.research.google.com/notebooks/data_table.ipynb>data table notebook</a>'\n",
              "            + ' to learn more about interactive tables.';\n",
              "          element.innerHTML = '';\n",
              "          dataTable['output_type'] = 'display_data';\n",
              "          await google.colab.output.renderOutput(dataTable, element);\n",
              "          const docLink = document.createElement('div');\n",
              "          docLink.innerHTML = docLinkHtml;\n",
              "          element.appendChild(docLink);\n",
              "        }\n",
              "      </script>\n",
              "    </div>\n",
              "  </div>\n",
              "  "
            ]
          },
          "metadata": {},
          "execution_count": 15
        }
      ]
    },
    {
      "cell_type": "code",
      "source": [
        "female_df.isna().sum()"
      ],
      "metadata": {
        "colab": {
          "base_uri": "https://localhost:8080/"
        },
        "id": "5QHil-a1PVZh",
        "outputId": "3c1837b1-7e53-422d-aa49-83c5f1de07d5"
      },
      "execution_count": null,
      "outputs": [
        {
          "output_type": "execute_result",
          "data": {
            "text/plain": [
              "Math Exam 1       0\n",
              "Math Exam 2       0\n",
              "Math Exam 3       0\n",
              "Math Exam 4       0\n",
              "History Exam 1    0\n",
              "History Exam 2    0\n",
              "History Exam 3    0\n",
              "History Exam 4    0\n",
              "dtype: int64"
            ]
          },
          "metadata": {},
          "execution_count": 16
        }
      ]
    },
    {
      "cell_type": "code",
      "source": [
        "# calculate mean score for each exam by male and female students separately\n",
        "math_male_df = male_df[['Math Exam 1', 'Math Exam 2', 'Math Exam 3', 'Math Exam 4']]\n",
        "math_female_df = female_df[['Math Exam 1', 'Math Exam 2', 'Math Exam 3', 'Math Exam 4']]\n",
        "history_male_df = male_df[['History Exam 1', 'History Exam 2', 'History Exam 3', 'History Exam 4']]\n",
        "history_female_df = female_df[['History Exam 1', 'History Exam 2', 'History Exam 3', 'History Exam 4']]\n",
        "\n",
        "math_male_mean = math_male_df.mean().mean()\n",
        "math_female_mean = math_female_df.mean().mean()\n",
        "history_male_mean = history_male_df.mean().mean()\n",
        "history_female_mean = history_female_df.mean().mean()\n",
        "\n",
        "# calculate the stds as well\n",
        "math_male_std = math_male_df.std().mean()\n",
        "math_female_std = math_female_df.std().mean()\n",
        "history_male_std = history_male_df.std().mean()\n",
        "history_female_std = history_female_df.std().mean()\n",
        "\n",
        "\n",
        "\n",
        "# Print the scores\n",
        "print(f'Math Male Mean: {math_male_mean}')\n",
        "print(f'Math Female Mean: {math_female_mean}')\n",
        "print(f'History Male Mean: {history_male_mean}')\n",
        "print(f'History Female Mean: {history_female_mean}')\n",
        "\n",
        "print()\n",
        "# Compare the performance of female students in history exams with respect to male students in math exams\n",
        "if history_female_mean > math_male_mean:\n",
        "    print(\"Female students perform better in history exams than male students in math exams.\")\n",
        "else:\n",
        "    print(\"There is no evidence to suggest that female students perform better in history exams than male students in math exams.\")\n"
      ],
      "metadata": {
        "colab": {
          "base_uri": "https://localhost:8080/"
        },
        "id": "No8pJWX99eZa",
        "outputId": "58e9f905-2cd9-4e91-978c-6f6185d81693"
      },
      "execution_count": null,
      "outputs": [
        {
          "output_type": "stream",
          "name": "stdout",
          "text": [
            "Math Male Mean: 74.21428571428572\n",
            "Math Female Mean: 76.07142857142858\n",
            "History Male Mean: 82.46428571428572\n",
            "History Female Mean: 80.42857142857143\n",
            "\n",
            "Female students perform better in history exams than male students in math exams.\n"
          ]
        }
      ]
    },
    {
      "cell_type": "markdown",
      "source": [
        "**This answers question 3,and we can also confirm this with the plot below**"
      ],
      "metadata": {
        "id": "70hceLE7FMIR"
      }
    },
    {
      "cell_type": "code",
      "source": [
        "# plot the results\n",
        "barWidth = 0.2\n",
        "r1 = np.arange(2)\n",
        "r2 = [x + barWidth for x in r1]\n",
        "r3 = [x + barWidth for x in r2]\n",
        "r4 = [x + barWidth for x in r3]\n",
        "\n",
        "plt.bar(r1, [math_male_mean, history_male_mean], color='blue', width=barWidth, edgecolor='white', label='Male')\n",
        "plt.bar(r2, [math_female_mean, history_female_mean], color='pink', width=barWidth, edgecolor='white', label='Female')\n",
        "plt.errorbar(r1, [math_male_mean, history_male_mean], yerr=[math_male_std, history_male_std], fmt='none', ecolor='black')\n",
        "plt.errorbar(r2, [math_female_mean, history_female_mean], yerr=[math_female_std, history_female_std], fmt='none', ecolor='black')\n",
        "plt.xticks([r + barWidth for r in range(2)], ['Math', 'History'])\n",
        "plt.title('Mean Scores for Male and Female Students in Math and History Exams')\n",
        "plt.xlabel('Exam Type')\n",
        "plt.ylabel('Mean Score')\n",
        "plt.legend()\n",
        "plt.show()\n"
      ],
      "metadata": {
        "colab": {
          "base_uri": "https://localhost:8080/",
          "height": 486
        },
        "id": "uFT5GLDY_d7L",
        "outputId": "e5a169ff-b20e-4b7a-cb14-3aa25837ec78"
      },
      "execution_count": null,
      "outputs": [
        {
          "output_type": "display_data",
          "data": {
            "text/plain": [
              "<Figure size 640x480 with 1 Axes>"
            ],
            "image/png": "[encoded data removed]"
          },
          "metadata": {}
        }
      ]
    },
    {
      "cell_type": "markdown",
      "source": [
        "In addition to answering question 3, we can plot the distribution of male and female students across all the 8 exams as follows"
      ],
      "metadata": {
        "id": "LqsvBnebFdv1"
      }
    },
    {
      "cell_type": "code",
      "source": [
        "# calculate mean score for each exam by male and female students separately\n",
        "math_male_mean = math_male_df.mean()\n",
        "math_female_mean = math_female_df.mean()\n",
        "history_male_mean = history_male_df.mean()\n",
        "history_female_mean = history_female_df.mean()\n",
        "\n",
        "# plot the results\n",
        "barWidth = 0.2\n",
        "r1 = np.arange(len(math_male_mean))\n",
        "r2 = [x + barWidth for x in r1]\n",
        "plt.figure(figsize=(10,5))\n",
        "plt.bar(r1, math_male_mean, color='blue', width=barWidth, edgecolor='white', label='Male Math')\n",
        "plt.bar(r2, history_male_mean, color='red', width=barWidth, edgecolor='white', label='Male History')\n",
        "plt.xticks([r + barWidth/2 for r in range(len(math_male_mean))], ['Exam 1', 'Exam 2', 'Exam 3', 'Exam 4'])\n",
        "plt.title('Mean Scores for Male Students in Math and History Exams')\n",
        "plt.xlabel('Exam')\n",
        "plt.ylabel('Mean Score')\n",
        "plt.legend()\n",
        "\n",
        "r3 = [x + barWidth*2 for x in r1]\n",
        "r4 = [x + barWidth for x in r3]\n",
        "plt.bar(r3, math_female_mean, color='cyan', width=barWidth, edgecolor='white', label='Female Math')\n",
        "plt.bar(r4, history_female_mean, color='pink', width=barWidth, edgecolor='white', label='Female History')\n",
        "plt.xticks([r + barWidth/2 + barWidth*2 for r in range(len(math_male_mean))], ['Exam 1', 'Exam 2', 'Exam 3', 'Exam 4'])\n",
        "plt.title('Mean Scores for Male and Female Students in Math and History Exams')\n",
        "plt.xlabel('Exam')\n",
        "plt.ylabel('Mean Score')\n",
        "plt.legend()\n",
        "plt.show()\n"
      ],
      "metadata": {
        "colab": {
          "base_uri": "https://localhost:8080/",
          "height": 506
        },
        "id": "vM7qPzzO6-2i",
        "outputId": "6bb7234a-7977-4270-bc13-e9e133497ce5"
      },
      "execution_count": null,
      "outputs": [
        {
          "output_type": "display_data",
          "data": {
            "text/plain": [
              "<Figure size 1000x500 with 1 Axes>"
            ],
            "image/png": "[encoded data removed]"
          },
          "metadata": {}
        }
      ]
    },
    {
      "cell_type": "markdown",
      "source": [
        "# **Answering with more confidence using Inferential Statistics**"
      ],
      "metadata": {
        "id": "Oq4KFUutGDUK"
      }
    },
    {
      "cell_type": "markdown",
      "source": [
        ". **1. Which exact exam is the most challenging exam for male students?**"
      ],
      "metadata": {
        "id": "Hi9r0d_yjfzl"
      }
    },
    {
      "cell_type": "markdown",
      "source": [
        "To answer this question, we will setup a statiical test of hypothesis as follows:\n",
        "\n",
        "\n",
        "**H0 (Null Hypothesis):** the mean scores of male students are the same across all exams\n",
        "\n",
        "against\n",
        "\n",
        "**H1(Alternative hypothesis):** there are significant differences in mean scores between at least two exams.\n",
        "\n",
        "Let the level of sigmificance, **α = 0.05**\n",
        "\n",
        "**Decision rule:** we reject the null hypothesis if the p-value is less than α and conclude that there are significant differences in mean scores between exams. If the p-value is greater than α, we fail to reject the null hypothesis and conclude that there are no significant differences in mean scores between exams\n",
        "\n",
        "We will use a one-way analysis of variance (ANOVA) for our test statistic. If there is a significant difference, we then perform a post-hoc test to determine which exact exam with the lowest mean for male students\n"
      ],
      "metadata": {
        "id": "4oh23k1DjxI5"
      }
    },
    {
      "cell_type": "code",
      "source": [
        "import pandas as pd\n",
        "from scipy.stats import f_oneway\n",
        "\n",
        "\n",
        "# extract the math exam scores for male students\n",
        "math_male = math_male_df.values.reshape(-1)\n",
        "\n",
        "# extract the history exam scores for male students\n",
        "history_male = history_male_df.values.reshape(-1)\n",
        "\n",
        "print(f'Math Male: {math_male}')\n",
        "print(f'History Male: {history_male}')\n",
        "\n",
        "# perform one-way ANOVA\n",
        "f_val, p_val = f_oneway(math_male, history_male)\n",
        "\n",
        "# print the results\n",
        "print('\\n\\nOne-way ANOVA results:')\n",
        "print('-----------------------')\n",
        "print('F-value:', f_val)\n",
        "print('p-value:', p_val)\n"
      ],
      "metadata": {
        "colab": {
          "base_uri": "https://localhost:8080/"
        },
        "id": "Xc0u5nEJGLSV",
        "outputId": "712af699-1546-4854-d38d-491c62ca496c"
      },
      "execution_count": null,
      "outputs": [
        {
          "output_type": "stream",
          "name": "stdout",
          "text": [
            "Math Male: [45. 73. 66. 61. 60. 75. 73. 63. 63. 83. 84. 69. 67. 77. 78. 77. 67. 82.\n",
            " 80. 83. 73. 83. 83. 84. 80. 83. 83. 83.]\n",
            "History Male: [75. 61. 67. 77. 76. 88. 72. 86. 80. 83. 75. 87. 87. 93. 79. 91. 81. 93.\n",
            " 83. 90. 82. 82. 87. 79. 81. 96. 85. 93.]\n",
            "\n",
            "\n",
            "One-way ANOVA results:\n",
            "-----------------------\n",
            "F-value: 11.802532952134413\n",
            "p-value: 0.0011446226224956977\n"
          ]
        }
      ]
    },
    {
      "cell_type": "markdown",
      "source": [
        "Conclusion: since the p-value = 0.001 is less than α = 0.05, we reject the null hypothesis and conclude that there exist some significant difference between atleast two exams.\n",
        "\n",
        "**Let's perfom a Turkey post-hoc test.**"
      ],
      "metadata": {
        "id": "oRTE1z-ErAQU"
      }
    },
    {
      "cell_type": "code",
      "source": [
        "male_df_turkey = male_df.copy()\n",
        "\n",
        "#convert the dataframe to a series\n",
        "male_df_turkey = male_df_turkey.stack()\n",
        "\n",
        "# reset the index and make the second level index a column\n",
        "male_df_turkey = male_df_turkey.reset_index(level=1)\n",
        "\n",
        "# rename the column\n",
        "male_df_turkey = male_df_turkey.rename(columns={'level_1': 'Column'})\n",
        "\n",
        "# sort the series by the 'Column' column\n",
        "male_df_turkey = male_df_turkey.sort_values('Column')\n",
        "\n",
        "male_df_turkey.columns = ['Exam type', 'Score']"
      ],
      "metadata": {
        "id": "ht0jrbD9oo-x"
      },
      "execution_count": null,
      "outputs": []
    },
    {
      "cell_type": "code",
      "source": [
        "from statsmodels.stats.multicomp import pairwise_tukeyhsd\n",
        "\n",
        "\n",
        "# perform Tukey's test\n",
        "tukey = pairwise_tukeyhsd(endog=male_df_turkey['Score'],\n",
        "                          groups=male_df_turkey['Exam type'],\n",
        "                          alpha=0.05)\n",
        "\n",
        "#display results\n",
        "print(tukey)\n"
      ],
      "metadata": {
        "colab": {
          "base_uri": "https://localhost:8080/"
        },
        "id": "ni6y0cJZsht3",
        "outputId": "f822dc1e-8ebb-47f7-afd6-f94942ccc149"
      },
      "execution_count": null,
      "outputs": [
        {
          "output_type": "stream",
          "name": "stdout",
          "text": [
            "         Multiple Comparison of Means - Tukey HSD, FWER=0.05         \n",
            "=====================================================================\n",
            "    group1         group2     meandiff p-adj   lower    upper  reject\n",
            "---------------------------------------------------------------------\n",
            "History Exam 1 History Exam 2   4.8571 0.9495   -8.898 18.6123  False\n",
            "History Exam 1 History Exam 3     -2.0 0.9998 -15.7551 11.7551  False\n",
            "History Exam 1 History Exam 4   5.8571  0.875   -7.898 19.6123  False\n",
            "History Exam 1    Math Exam 1 -15.2857 0.0198 -29.0408 -1.5306   True\n",
            "History Exam 1    Math Exam 2  -0.8571    1.0 -14.6123  12.898  False\n",
            "History Exam 1    Math Exam 3  -2.1429 0.9996  -15.898 11.6123  False\n",
            "History Exam 1    Math Exam 4     -6.0 0.8609 -19.7551  7.7551  False\n",
            "History Exam 2 History Exam 3  -6.8571 0.7598 -20.6123   6.898  False\n",
            "History Exam 2 History Exam 4      1.0    1.0 -12.7551 14.7551  False\n",
            "History Exam 2    Math Exam 1 -20.1429 0.0007  -33.898 -6.3877   True\n",
            "History Exam 2    Math Exam 2  -5.7143 0.8882 -19.4694  8.0408  False\n",
            "History Exam 2    Math Exam 3     -7.0 0.7407 -20.7551  6.7551  False\n",
            "History Exam 2    Math Exam 4 -10.8571 0.2199 -24.6123   2.898  False\n",
            "History Exam 3 History Exam 4   7.8571 0.6167   -5.898 21.6123  False\n",
            "History Exam 3    Math Exam 1 -13.2857 0.0653 -27.0408  0.4694  False\n",
            "History Exam 3    Math Exam 2   1.1429    1.0 -12.6123  14.898  False\n",
            "History Exam 3    Math Exam 3  -0.1429    1.0  -13.898 13.6123  False\n",
            "History Exam 3    Math Exam 4     -4.0 0.9825 -17.7551  9.7551  False\n",
            "History Exam 4    Math Exam 1 -21.1429 0.0003  -34.898 -7.3877   True\n",
            "History Exam 4    Math Exam 2  -6.7143 0.7784 -20.4694  7.0408  False\n",
            "History Exam 4    Math Exam 3     -8.0 0.5952 -21.7551  5.7551  False\n",
            "History Exam 4    Math Exam 4 -11.8571 0.1382 -25.6123   1.898  False\n",
            "   Math Exam 1    Math Exam 2  14.4286 0.0336   0.6735 28.1837   True\n",
            "   Math Exam 1    Math Exam 3  13.1429 0.0706  -0.6123  26.898  False\n",
            "   Math Exam 1    Math Exam 4   9.2857  0.406  -4.4694 23.0408  False\n",
            "   Math Exam 2    Math Exam 3  -1.2857    1.0 -15.0408 12.4694  False\n",
            "   Math Exam 2    Math Exam 4  -5.1429 0.9325  -18.898  8.6123  False\n",
            "   Math Exam 3    Math Exam 4  -3.8571 0.9858 -17.6123   9.898  False\n",
            "---------------------------------------------------------------------\n"
          ]
        }
      ]
    },
    {
      "cell_type": "markdown",
      "source": [
        "As we can see from the Turkey's test above,most of the exam pairs showed no significant difference. Out of the few that are significatly different, all have Math Exam 1 in pair. Hence, we can conclude that again, same with descriptive statistics result, **Math Exam 1 is the most challenging fo male students.**"
      ],
      "metadata": {
        "id": "2iAO13bKp9_R"
      }
    },
    {
      "cell_type": "markdown",
      "source": [
        "**2. In general, which type of exam is the easier for all the students?**"
      ],
      "metadata": {
        "id": "HiIPXvKpqvnM"
      }
    },
    {
      "cell_type": "markdown",
      "source": [
        "To answer this question, we will setup a statiical test of hypothesis as before:\n",
        "\n",
        "\n",
        "**H0 (Null Hypothesis):** their is no difference in the mean performance of students in Math and History exams\n",
        "\n",
        "against\n",
        "\n",
        "**H1(Alternative hypothesis):** there are significant differences in mean performance between the two groups(Math and History).\n",
        "\n",
        "Let the level of sigmificance, **α = 0.05**\n",
        "\n",
        "**Decision rule:** we reject the null hypothesis if the p-value is less than α and conclude that there are significant differences in mean performance ofstudents between Math and Histor. If the p-value is greater than α, we fail to reject the null hypothesis and conclude that there is no significant differences in the mean performance of students in the two subjects\n",
        "\n",
        "We will use a two-sample t-test to check for the difference in mean in the two groups.\n",
        "\n",
        "PS: In answering the questions in this project, we assume that the data met all the conditionals for the type of test we perform."
      ],
      "metadata": {
        "id": "dR315GVHtB7C"
      }
    },
    {
      "cell_type": "code",
      "source": [
        "math_scores = df[['Math Exam 1', 'Math Exam 2', 'Math Exam 3', 'Math Exam 4']]\n",
        "history_scores = df[['History Exam 1', 'History Exam 2', 'History Exam 3', 'History Exam 4']]"
      ],
      "metadata": {
        "id": "O3WRJdig0nkn"
      },
      "execution_count": null,
      "outputs": []
    },
    {
      "cell_type": "code",
      "source": [
        "from scipy.stats import ttest_ind\n",
        "\n",
        "# Select the Math and History exam columns\n",
        "math_scores = math_scores.values.flatten()\n",
        "history_scores = history_scores.values.flatten()\n",
        "\n",
        "# Conduct the two-sample t-test\n",
        "t_stat, p_val = ttest_ind(math_scores, history_scores)\n",
        "\n",
        "# Print the results\n",
        "print(\"The t-statistic is: \", t_stat)\n",
        "print(\"The p-value is: \", p_val)\n"
      ],
      "metadata": {
        "colab": {
          "base_uri": "https://localhost:8080/"
        },
        "id": "4rq8wRztz9wr",
        "outputId": "4f7f1d68-5f95-494f-8bfb-51442dfe147f"
      },
      "execution_count": null,
      "outputs": [
        {
          "output_type": "stream",
          "name": "stdout",
          "text": [
            "The t-statistic is:  -3.8754127806403758\n",
            "The p-value is:  0.00018135119484549538\n"
          ]
        }
      ]
    },
    {
      "cell_type": "markdown",
      "source": [
        "Conclusion: since the p-value = 0.0001 is less than α = 0.05, we reject the null hypothesis and conclude that there exist some significant difference in students' performance between the two subjects (Math and History)."
      ],
      "metadata": {
        "id": "HrbJo2SJ1X1w"
      }
    },
    {
      "cell_type": "markdown",
      "source": [
        "Now that we're certain that the two subjects show significant difference performance among students using two-sample t-test, we can calculate Cohen's d, which is a standardized measure of the difference between two means, adjusted for the standard deviation to answer the question using the adjsuted mean. Wecan as well conduct a post-hoc test to check this.\n",
        "\n",
        "If we do Math - History, then a positive value of Cohen's d would indicate that Math exams have higher mean value, hence, are easier for all students, while a negative value of Cohen's d would indicate that History exams are easier for all students. The magnitude of the effect size would also indicate how much easier one exam is compared to the other."
      ],
      "metadata": {
        "id": "Mob__Ri53Wo1"
      }
    },
    {
      "cell_type": "code",
      "source": [
        "# Calculate the mean scores for each group\n",
        "math_mean = np.mean(math_scores)\n",
        "history_mean = np.mean(history_scores)\n",
        "\n",
        "# Calculate the effect size using Cohen's d\n",
        "math_var = np.var(math_scores, ddof=1)\n",
        "history_var = np.var(history_scores, ddof=1)\n",
        "pooled_std = np.sqrt((math_var + history_var) / 2)\n",
        "cohens_d = (math_mean - history_mean) / pooled_std\n",
        "\n",
        "# Print the results\n",
        "print(\"The mean score for Math exams is: \", math_mean)\n",
        "print(\"The mean score for History exams is: \", history_mean)\n",
        "print(\"The effect size (Cohen's d) is: \", cohens_d)\n"
      ],
      "metadata": {
        "colab": {
          "base_uri": "https://localhost:8080/"
        },
        "id": "hyeuiyVI4XQL",
        "outputId": "a97041fa-6fe4-4079-9d1a-7177bd27b371"
      },
      "execution_count": null,
      "outputs": [
        {
          "output_type": "stream",
          "name": "stdout",
          "text": [
            "The mean score for Math exams is:  75.14285714285714\n",
            "The mean score for History exams is:  81.44642857142857\n",
            "The effect size (Cohen's d) is:  -0.7323841746639818\n"
          ]
        }
      ]
    },
    {
      "cell_type": "markdown",
      "source": [
        "From the result above, we can conclude that **History exams are generally easier for all students with a factor of 0.7**"
      ],
      "metadata": {
        "id": "s7AQ_LdX4wX7"
      }
    },
    {
      "cell_type": "markdown",
      "source": [
        "\n"
      ],
      "metadata": {
        "id": "i08naebl5ucA"
      }
    },
    {
      "cell_type": "markdown",
      "source": [
        "**3. Comparing to math exam, whether female students do better in the history exam than male?**"
      ],
      "metadata": {
        "id": "5gbvHgWj5rgc"
      }
    },
    {
      "cell_type": "markdown",
      "source": [
        "let's perform a two two-sample t-test to compare the mean scores of male and female in Math, then in History. To proceed to check fora significant difference as we did earlier."
      ],
      "metadata": {
        "id": "jS5iH2uWIKS2"
      }
    },
    {
      "cell_type": "markdown",
      "source": [
        "First, for Math.\n",
        "\n",
        "The null hypothesis is that there is no significant difference in the mean performance of male and female students in Math. The alternative hypothesis is that there is a significant difference in the mean performance of male and female students in Math Exams."
      ],
      "metadata": {
        "id": "wK9erCtCJJl6"
      }
    },
    {
      "cell_type": "code",
      "source": [
        "# t-test for Math exam\n",
        "\n",
        "math_ttest = ttest_ind(math_male_df.values.flatten(), math_female_df.values.flatten())\n",
        "print(\"t-test result for Math exam:\")\n",
        "print(math_ttest)"
      ],
      "metadata": {
        "colab": {
          "base_uri": "https://localhost:8080/"
        },
        "id": "cLq1nk4xJZBD",
        "outputId": "f7f3332d-5f02-44c7-8793-df0dc4cbd720"
      },
      "execution_count": null,
      "outputs": [
        {
          "output_type": "stream",
          "name": "stdout",
          "text": [
            "t-test result for Math exam:\n",
            "Ttest_indResult(statistic=-0.853594022056751, pvalue=0.39710067448423525)\n"
          ]
        }
      ]
    },
    {
      "cell_type": "markdown",
      "source": [
        "Second,for History. The null hypothesis is that there is no significant difference in the mean performance of male and female students in History. The alternative hypothesis is that there is a significant difference in the mean performance of male and female students in History Exams."
      ],
      "metadata": {
        "id": "WtsVzu-aKYZC"
      }
    },
    {
      "cell_type": "code",
      "source": [
        "# t-test for History exam\n",
        "\n",
        "history_ttest = ttest_ind(history_male_df.values.flatten(), history_female_df.values.flatten())\n",
        "print(\"t-test result for History exams:\")\n",
        "print(history_ttest)"
      ],
      "metadata": {
        "colab": {
          "base_uri": "https://localhost:8080/"
        },
        "id": "3qkgHLg-Ku8k",
        "outputId": "c79f53ff-43d9-48ab-eb53-7c0d215cbb0e"
      },
      "execution_count": null,
      "outputs": [
        {
          "output_type": "stream",
          "name": "stdout",
          "text": [
            "t-test result for History exams:\n",
            "Ttest_indResult(statistic=0.8377690571555384, pvalue=0.40585322753373865)\n"
          ]
        }
      ]
    },
    {
      "cell_type": "markdown",
      "source": [
        "Conclusin, since the p-value in both cases are greater than the level of significance which we assume to be 0.05, we do not reject the null hypothesis in both case (0.3971 for Math and 0.4585 for History) and conclude that there is no enough evidence to determine if Female students performbettr in History exam compared to male in math exams."
      ],
      "metadata": {
        "id": "80RbTwwXLF8i"
      }
    },
    {
      "cell_type": "markdown",
      "source": [
        "# **LIMITATIONS**"
      ],
      "metadata": {
        "id": "bCzwcgspL05A"
      }
    },
    {
      "cell_type": "markdown",
      "source": [
        "1. Small sample size for a more reliable generalization\n",
        "2. It's difficult to make satisfactory statistical conclusions on students performance in exams with only the exams and gender. More independet variables that affects performance should be added.\n",
        "3. The format of the original data made it very difficult and time-consuming for formatting before an appriopriate could be carried out.\n"
      ],
      "metadata": {
        "id": "1kroISCFL80O"
      }
    }
  ]
}